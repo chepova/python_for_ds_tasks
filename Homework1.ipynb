{
  "nbformat": 4,
  "nbformat_minor": 0,
  "metadata": {
    "colab": {
      "provenance": [],
      "include_colab_link": true
    },
    "kernelspec": {
      "name": "python3",
      "display_name": "Python 3"
    },
    "language_info": {
      "name": "python"
    }
  },
  "cells": [
    {
      "cell_type": "markdown",
      "metadata": {
        "id": "view-in-github",
        "colab_type": "text"
      },
      "source": [
        "<a href=\"https://colab.research.google.com/github/chepova/python_for_ds_tasks/blob/main/Homework1.ipynb\" target=\"_parent\"><img src=\"https://colab.research.google.com/assets/colab-badge.svg\" alt=\"Open In Colab\"/></a>"
      ]
    },
    {
      "cell_type": "markdown",
      "source": [
        "В цьому домашньому завданні відпрацюємо з вами знання, отримані в модулі зі статистики.\n",
        "\n",
        "**Завдання 1.** Ми обговорили з Вами на лекції, що велика літера Сігма грецького алфавіту позначає в математиці суму. Знайдіть з використанням Python $\\Sigma x$, $\\Sigma x^2$, та $\\Sigma (x-1)^2$ для наступного набору даних:\n",
        "`1 3 4`\n",
        "Виведіть результат кожного обчислення на екран."
      ],
      "metadata": {
        "id": "SDhaTqxcWhnP"
      }
    },
    {
      "cell_type": "code",
      "source": [
        "x = [1, 3, 4]"
      ],
      "metadata": {
        "id": "DiAzUJSd3SO6"
      },
      "execution_count": null,
      "outputs": []
    },
    {
      "cell_type": "code",
      "source": [
        "sum_x = sum(x)\n",
        "sum_x2 = sum([i**2 for i in x])\n",
        "sum_x3 = sum((i - 1) ** 2 for i in x)\n",
        "\n",
        "print(sum_x)\n",
        "print(sum_x2)\n",
        "print(sum_x3)"
      ],
      "metadata": {
        "colab": {
          "base_uri": "https://localhost:8080/"
        },
        "id": "5XxYVZHZ502w",
        "outputId": "3b33c699-d885-47ee-928e-0ac67247530b"
      },
      "execution_count": null,
      "outputs": [
        {
          "output_type": "stream",
          "name": "stdout",
          "text": [
            "8\n",
            "26\n",
            "13\n"
          ]
        }
      ]
    },
    {
      "cell_type": "markdown",
      "source": [
        "**Завдання 2.** Ми зібрали дані про суму покупок в гривнях 20ма випадково обраними клієнтами в нашому магазині (всього клієнтів у нас більше) за минулий місяць. Вони представлені в змінній `sum_purchases`. Знайдіть **вибіркове середнє** для цих даних кожним з зазначених методів:   \n",
        "\n",
        "  2.1. без використання жодних бібліотек, користуючись тільки Python.  \n",
        "  2.2. використовуючи відповідний метод бібліотеки `numpy`.\n",
        "\n",
        "  Виведіть результат обчислень в кожному з випадків на екран та порівняйте результати. Вони співпадають?"
      ],
      "metadata": {
        "id": "fa78aW5lhiia"
      }
    },
    {
      "cell_type": "code",
      "execution_count": null,
      "metadata": {
        "id": "_9kMt3rq6V5m"
      },
      "outputs": [],
      "source": [
        "sum_purchases = [ 316,  493,  367,  153,  224,  121,  322,  450,  196,  397,  281,\n",
        "  239,  484,  124,  223,  448,  432,  255, 4310, 3524]"
      ]
    },
    {
      "cell_type": "markdown",
      "source": [
        "2.1. без використання жодних бібліотек, користуючись тільки Python"
      ],
      "metadata": {
        "id": "6ieOXy2I8a_v"
      }
    },
    {
      "cell_type": "code",
      "source": [
        "full_sum_purchases = sum(sum_purchases)\n",
        "n_sum_purchases = len(sum_purchases)\n",
        "\n",
        "sum_purchases_mean = full_sum_purchases / (n_sum_purchases-1)\n",
        "\n",
        "print(sum_purchases_mean)"
      ],
      "metadata": {
        "id": "wPmL919HT1c0",
        "colab": {
          "base_uri": "https://localhost:8080/"
        },
        "outputId": "485d034a-4c51-4d0d-e60b-02d75fb1430a"
      },
      "execution_count": null,
      "outputs": [
        {
          "output_type": "stream",
          "name": "stdout",
          "text": [
            "703.1052631578947\n"
          ]
        }
      ]
    },
    {
      "cell_type": "markdown",
      "source": [
        "2.2. використовуючи відповідний метод бібліотеки `numpy`."
      ],
      "metadata": {
        "id": "bkt7IcQR9_0P"
      }
    },
    {
      "cell_type": "code",
      "source": [
        "import numpy as np\n",
        "\n",
        "n_sum_purchases = len(sum_purchases)\n",
        "\n",
        "sum_purchases_mean = np.sum(sum_purchases) / (n_sum_purchases - 1)\n",
        "\n",
        "print(sum_purchases_mean)"
      ],
      "metadata": {
        "colab": {
          "base_uri": "https://localhost:8080/"
        },
        "id": "gMhNG0pD-AM1",
        "outputId": "a35a1743-39e3-4980-bf58-6b5085ce0469"
      },
      "execution_count": null,
      "outputs": [
        {
          "output_type": "stream",
          "name": "stdout",
          "text": [
            "703.1052631578947\n"
          ]
        }
      ]
    },
    {
      "cell_type": "markdown",
      "source": [
        "*Результати співпадають*"
      ],
      "metadata": {
        "id": "UuBhTe_E_s4M"
      }
    },
    {
      "cell_type": "markdown",
      "source": [
        "**Завдання 3.** Для того ж набору даних в змінній `sum_purchases` обчисліть **медіану** кожним з зазначених методів:  \n",
        "\n",
        "  3.1. без використання жодних бібліотек, користуючись тільки Python.  \n",
        "  3.2. використовуючи відповідний метод бібліотеки numpy.  \n",
        "\n",
        "Виведіть результат обчислень в кожному з випадків на екран. Порівняйте результати зі значенням вибіркового середнього. Напишіть коментар, для яких задач ви б використовували вибіркове середнє, а для яких - медіану?"
      ],
      "metadata": {
        "id": "FMdoxZd0kZdW"
      }
    },
    {
      "cell_type": "markdown",
      "source": [
        "3.1. без використання жодних бібліотек, користуючись тільки Python"
      ],
      "metadata": {
        "id": "6r08Vxr7AaJP"
      }
    },
    {
      "cell_type": "code",
      "source": [
        "sum_purchases.sort()\n",
        "\n",
        "n = len(sum_purchases)\n",
        "\n",
        "if n % 2 == 1:\n",
        "    median = sum_purchases[n // 2]\n",
        "else:\n",
        "    median = (sum_purchases[n // 2 - 1] + sum_purchases[n // 2]) / 2\n",
        "\n",
        "print(median)"
      ],
      "metadata": {
        "id": "x58BumvuT2nl",
        "colab": {
          "base_uri": "https://localhost:8080/"
        },
        "outputId": "740f47b4-6f9e-4e22-df4c-0ce6c76382ed"
      },
      "execution_count": null,
      "outputs": [
        {
          "output_type": "stream",
          "name": "stdout",
          "text": [
            "319.0\n"
          ]
        }
      ]
    },
    {
      "cell_type": "markdown",
      "source": [
        "3.2. використовуючи відповідний метод бібліотеки numpy\n",
        "\n",
        "*Бібліотеку повторно не імпортую, оскільки це було вже зроблено вище*"
      ],
      "metadata": {
        "id": "5r8NhwpwBm5F"
      }
    },
    {
      "cell_type": "code",
      "source": [
        "median = np.median(sum_purchases)\n",
        "\n",
        "print(median)"
      ],
      "metadata": {
        "colab": {
          "base_uri": "https://localhost:8080/"
        },
        "id": "hbRR2rbsBp0D",
        "outputId": "9c6d5f87-69ff-4d88-81ff-c93a9cc32e16"
      },
      "execution_count": null,
      "outputs": [
        {
          "output_type": "stream",
          "name": "stdout",
          "text": [
            "319.0\n"
          ]
        }
      ]
    },
    {
      "cell_type": "markdown",
      "source": [
        "У даному випадку ми бачимо, що значення вибіркового середнього (703.1052631578947) більше ніж значення медіани (319.0).\n",
        "\n",
        "Вибіркове середнє показує загальну тенденцію. Використовується, коли дані рівномірні. Сильно впливає, якщо є дуже великі або дуже малі значення. На мою думку, можна використовувати при оцінюванні середнього балу учня за рік, середнього доходу компанії у певному регіоні, соціологічних досліджень.\n",
        "\n",
        "Медіана показує \"реальну\" середину. Вона стійка до вкидів, дає точніший результат, коли дані сильно відрізняються між собою або містять аномальні значення. Використовується, коли дані розподілені асиметрично, містять вкиди. Наприклад, в медицині на наукових дослідженнях або ін"
      ],
      "metadata": {
        "id": "_kP78mNgCHCI"
      }
    },
    {
      "cell_type": "markdown",
      "source": [
        "**Завдання 4**. Обчислість стандартне відхилення наведеної вибірки в змінній `sum_purchases` кожним з зазначених методів:  \n",
        "\n",
        "  4.1. без використання жодних бібліотек, користуючись тільки Python.  \n",
        "  4.2. використовуючи відповідний метод бібліотеки numpy.  \n",
        "\n",
        "Виведіть результат обчислень в кожному з випадків на екран."
      ],
      "metadata": {
        "id": "o1Z7az2yNDQV"
      }
    },
    {
      "cell_type": "markdown",
      "source": [
        "4.1. без використання жодних бібліотек, користуючись тільки Python\n"
      ],
      "metadata": {
        "id": "70fGhP2HGIyX"
      }
    },
    {
      "cell_type": "code",
      "source": [
        "n = len(sum_purchases)\n",
        "\n",
        "mean = sum(sum_purchases) / n\n",
        "\n",
        "squar_dif = [(x - mean) ** 2 for x in sum_purchases]\n",
        "variance = sum(squar_dif) / n\n",
        "std_dev = variance ** 0.5\n",
        "\n",
        "print(std_dev)"
      ],
      "metadata": {
        "id": "X4ixtmL2T642",
        "colab": {
          "base_uri": "https://localhost:8080/"
        },
        "outputId": "c6bdf244-b53e-4b98-9c68-cc00c63c24e1"
      },
      "execution_count": null,
      "outputs": [
        {
          "output_type": "stream",
          "name": "stdout",
          "text": [
            "1096.0692713054227\n"
          ]
        }
      ]
    },
    {
      "cell_type": "markdown",
      "source": [
        "4.2. використовуючи відповідний метод бібліотеки numpy."
      ],
      "metadata": {
        "id": "nn-Bf5dNHOKC"
      }
    },
    {
      "cell_type": "code",
      "source": [
        "std_dev = np.std(sum_purchases)\n",
        "\n",
        "print(std_dev)"
      ],
      "metadata": {
        "colab": {
          "base_uri": "https://localhost:8080/"
        },
        "id": "7gt1IznjHQ9O",
        "outputId": "84878876-7ac6-4a64-d476-7fb88a1c5d36"
      },
      "execution_count": null,
      "outputs": [
        {
          "output_type": "stream",
          "name": "stdout",
          "text": [
            "1096.0692713054227\n"
          ]
        }
      ]
    },
    {
      "cell_type": "markdown",
      "source": [
        "**Завдання 5**. Ми провели дослідження віку студентів-першокурсників. Виявилось, що\n",
        "- 10 студентів мають вік 16 років\n",
        "- 25 студентів - 17 років\n",
        "- 20 студентів - 18 років\n",
        "- 2 студенти - 20 років\n",
        "\n",
        "Обчислість середнє значення для цієї вибірки будь-яким способом - на чистому Python або з numpy - та виведіть результат на екран."
      ],
      "metadata": {
        "id": "M1ntKTjXLVlH"
      }
    },
    {
      "cell_type": "code",
      "source": [
        "ages = [16, 17, 18, 20]\n",
        "students = [10, 25, 20, 2]\n",
        "\n",
        "total_age = np.sum([age * count for age, count in zip(ages, students)])\n",
        "total_students = np.sum(students)\n",
        "average_age = total_age / total_students\n",
        "\n",
        "print(average_age)"
      ],
      "metadata": {
        "id": "RdIU4M-7T8R4",
        "colab": {
          "base_uri": "https://localhost:8080/"
        },
        "outputId": "6649bf34-6cd7-4b1d-80fb-e44633495a7b"
      },
      "execution_count": null,
      "outputs": [
        {
          "output_type": "stream",
          "name": "stdout",
          "text": [
            "17.280701754385966\n"
          ]
        }
      ]
    },
    {
      "cell_type": "markdown",
      "source": [
        "**Завдання 6**. Крім даних про суму покупок, ми зібрали ще дані про кількість відвідувань кожного з кожного покупця, які знаходяться в змінній `visits`. Обчисліть коефіцієнт кореляції Пірсона для суми покупок і кількості відвідувань кожним з зазначених методів:  \n",
        "\n",
        "  6.1. без використання жодних бібліотек, користуючись тільки Python.  \n",
        "  6.2. використовуючи відповідний метод бібліотеки numpy.  \n",
        "  \n",
        "Виведіть результат на екран. Проаналізуйте результат.\n",
        "\n",
        "Виведіть додатково графік розсіювання викликавши код нижче і зробіть заключення, чи варто щось змінити при підрахунку кореляції, аби коефіцієнт Пірсона показував коректну оцінку лінійної залежності?"
      ],
      "metadata": {
        "id": "Xx8MFkkVM53z"
      }
    },
    {
      "cell_type": "code",
      "source": [
        "visits = [ 6,  2, 10,  3,  9,  9,  2,  3,  6,  6, 10,  2,  5, 10,  3,  5,  4,\n",
        "        7,  4,  2]"
      ],
      "metadata": {
        "id": "4OIGBT7UOWhO"
      },
      "execution_count": null,
      "outputs": []
    },
    {
      "cell_type": "markdown",
      "source": [
        "6.1. без використання жодних бібліотек, користуючись тільки Python"
      ],
      "metadata": {
        "id": "zDRPuzFaLYqU"
      }
    },
    {
      "cell_type": "code",
      "source": [
        "mean_sums = sum(sum_purchases) / len (sum_purchases)\n",
        "mean_visits = sum(visits) / len(visits)\n",
        "\n",
        "numerator = sum((x - mean_sums) * (y - mean_visits) for x, y in zip(sum_purchases, visits))\n",
        "denominator_sums = sum((x - mean_sums) ** 2 for x in sum_purchases) ** 0.5\n",
        "denominator_visits = sum((y - mean_visits) ** 2 for y in visits) ** 0.5\n",
        "\n",
        "r = numerator / (denominator_sums * denominator_visits)\n",
        "\n",
        "print(r)"
      ],
      "metadata": {
        "id": "YLNF7VbeT97Q",
        "colab": {
          "base_uri": "https://localhost:8080/"
        },
        "outputId": "ae36498e-e9d9-4a73-eff7-3df9649fb114"
      },
      "execution_count": null,
      "outputs": [
        {
          "output_type": "stream",
          "name": "stdout",
          "text": [
            "-0.30265844687666454\n"
          ]
        }
      ]
    },
    {
      "cell_type": "markdown",
      "source": [
        "6.2. використовуючи відповідний метод бібліотеки numpy"
      ],
      "metadata": {
        "id": "pLo7AEkYK5pe"
      }
    },
    {
      "cell_type": "code",
      "source": [
        "mean_sum_purchases = np.mean(sum_purchases)\n",
        "mean_visits = np.mean(visits)\n",
        "\n",
        "numerator = np.sum((np.array(sum_purchases) - mean_sum_purchases) * (np.array(visits) - mean_visits))\n",
        "denominator_sum_purchases = np.sqrt(np.sum((np.array(sum_purchases) - mean_sum_purchases) ** 2))\n",
        "denominator_visits = np.sqrt(np.sum((np.array(visits) - mean_visits) ** 2))\n",
        "\n",
        "r = numerator / (denominator_sum_purchases * denominator_visits)\n",
        "\n",
        "print(r)"
      ],
      "metadata": {
        "colab": {
          "base_uri": "https://localhost:8080/"
        },
        "id": "2yA6Jqz3MEYz",
        "outputId": "d062bca9-4ae3-4d33-d71f-2f877370b656"
      },
      "execution_count": null,
      "outputs": [
        {
          "output_type": "stream",
          "name": "stdout",
          "text": [
            "-0.3026584468766645\n"
          ]
        }
      ]
    },
    {
      "cell_type": "markdown",
      "source": [
        "Коэффициент корреляции Пирсона -0.3027 свидетельствует о слабой обратной линейной зависимости между суммой покупок и количеством посещений."
      ],
      "metadata": {
        "id": "yFeyAk0WMuOW"
      }
    },
    {
      "cell_type": "code",
      "source": [
        "import matplotlib.pyplot as plt\n",
        "\n",
        "plt.scatter(sum_purchases, visits)\n",
        "plt.title('Scatter Plot of Purchases vs. Visits')\n",
        "plt.xlabel('Sum of Purchases')\n",
        "plt.ylabel('Number of Visits');"
      ],
      "metadata": {
        "colab": {
          "base_uri": "https://localhost:8080/",
          "height": 472
        },
        "id": "gaeoGA-5Prr1",
        "outputId": "1394304c-4fa1-4fb2-e13b-975906409c8d"
      },
      "execution_count": null,
      "outputs": [
        {
          "output_type": "display_data",
          "data": {
            "text/plain": [
              "<Figure size 640x480 with 1 Axes>"
            ],
            "image/png": "[encoded data removed]"
          },
          "metadata": {}
        }
      ]
    },
    {
      "cell_type": "markdown",
      "source": [
        "**Завдання 7**. В попередньому завданні ми помітили, що викиди нам заважають отримати \"правдиве\" значення кореляції. Давайте вилучимо записи, які відповідають значенням з викидами в сумі покупок і обчисліть коеф. кореляції. Для цього поставте `threshold`, який дорінює середньому значенню + 2 стандартних вдіхилля суми покупок і всі значення, які більше за нього, будемо вважати викидами (є і інші правила для визначення викидів - з ним и познайомимось пізніше).\n",
        "\n",
        "Вилучіть значення з обох масивів і обчисліть коеф. кореляції Пірсона з допомогою `numpy` для кількості візитів і суми покупок без записів-викидів. Виведіть результат на екран, побудуйте діаграму розсіювання і проаналізуйте результат: що можемо сказати про залежність в даних?"
      ],
      "metadata": {
        "id": "4pEg0KzSQ6KA"
      }
    },
    {
      "cell_type": "code",
      "source": [
        "mean_sum_purchases = np.mean(sum_purchases)\n",
        "std_sum_purchases = np.std(sum_purchases)\n",
        "\n",
        "threshold = mean_sum_purchases + 2 * std_sum_purchases\n",
        "\n",
        "filtered_sum_purchases = []\n",
        "filtered_visits = []\n",
        "\n",
        "for s, v in zip(sum_purchases, visits):\n",
        "    if s <= threshold:\n",
        "        filtered_sum_purchases.append(s)\n",
        "        filtered_visits.append(v)\n",
        "\n",
        "mean_filtered_sum_purchases = np.mean(filtered_sum_purchases)\n",
        "mean_filtered_visits = np.mean(filtered_visits)\n",
        "\n",
        "numerator = sum((s - mean_filtered_sum_purchases) * (v - mean_filtered_visits) for s, v in zip(filtered_sum_purchases, filtered_visits))\n",
        "denominator_sum = np.sqrt(sum((s - mean_filtered_sum_purchases) ** 2 for s in filtered_sum_purchases))\n",
        "denominator_visits = np.sqrt(sum((v - mean_filtered_visits) ** 2 for v in filtered_visits))\n",
        "\n",
        "r = numerator / (denominator_sum * denominator_visits)\n",
        "\n",
        "print(r)\n",
        "\n",
        "plt.figure(figsize=(10, 6))\n",
        "plt.scatter(filtered_sum_purchases, filtered_visits, color='blue', label='Data without outliers')\n",
        "plt.xlabel('Сума покупок')\n",
        "plt.ylabel('Кількість відвідувань')\n",
        "plt.title('Графік розсіювання (без викидів)')\n",
        "plt.legend()\n",
        "plt.grid()\n",
        "plt.show()\n"
      ],
      "metadata": {
        "id": "Yj3Yfaf7UBbc",
        "colab": {
          "base_uri": "https://localhost:8080/",
          "height": 581
        },
        "outputId": "a6f8df0e-fa31-4723-858b-999ea1f4f786"
      },
      "execution_count": 33,
      "outputs": [
        {
          "output_type": "stream",
          "name": "stdout",
          "text": [
            "-0.3685212078127798\n"
          ]
        },
        {
          "output_type": "display_data",
          "data": {
            "text/plain": [
              "<Figure size 1000x600 with 1 Axes>"
            ],
            "image/png": "[encoded data removed]"
          },
          "metadata": {}
        }
      ]
    },
    {
      "cell_type": "code",
      "source": [],
      "metadata": {
        "id": "HknIpZBWRDkc"
      },
      "execution_count": null,
      "outputs": []
    },
    {
      "cell_type": "markdown",
      "source": [
        "Кореляція між сумою покупок і кількістю візитів не є сильною, оскільки коефіцієнт кореляції дорівнює -0.30 й є близьким до 0; має слабкий від'ємний характер. Це може свідчити про те, що покупці, які здійснюють менше візитів, можуть, можливо, витрачати більше грошей за раз. А інші відвідують магазин частіше, але витрачають менше за один раз."
      ],
      "metadata": {
        "id": "-L4i2GAVQNU6"
      }
    }
  ]
}